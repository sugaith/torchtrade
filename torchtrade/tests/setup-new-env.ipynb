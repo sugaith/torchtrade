{
 "cells": [
  {
   "cell_type": "code",
   "execution_count": 73,
   "id": "initial_id",
   "metadata": {
    "collapsed": true,
    "ExecuteTime": {
     "end_time": "2024-12-13T22:33:29.108193Z",
     "start_time": "2024-12-13T22:33:27.508658Z"
    }
   },
   "outputs": [
    {
     "data": {
      "text/plain": "                 BTC:date    BTC:unix   BTC:open   BTC:high   BTC:low  \\\n0     2018-05-15 06:00:00  1526364000    8733.86    8796.68   8707.28   \n1     2018-05-15 07:00:00  1526367600    8740.99    8766.00   8721.11   \n2     2018-05-15 08:00:00  1526371200    8739.00    8750.27   8660.53   \n3     2018-05-15 09:00:00  1526374800    8728.49    8754.40   8701.35   \n4     2018-05-15 10:00:00  1526378400    8708.32    8865.00   8695.11   \n...                   ...         ...        ...        ...       ...   \n57686 2024-12-12 20:00:00  1734033600   99472.00  100408.00  99472.00   \n57687 2024-12-12 21:00:00  1734037200  100036.00  100146.00  99733.00   \n57688 2024-12-12 22:00:00  1734040800   99798.00  100498.00  99553.00   \n57689 2024-12-12 23:00:00  1734044400  100496.00  100496.00  99916.00   \n57690 2024-12-13 00:00:00  1734048000   99998.00  100129.00  99982.00   \n\n       BTC:close    BTC:volume  \n0        8740.99  5.599300e+02  \n1        8739.00  2.735800e+02  \n2        8728.49  9.177900e+02  \n3        8708.32  1.826200e+02  \n4        8795.90  1.260690e+03  \n...          ...           ...  \n57686  100032.00  8.690325e+06  \n57687   99884.00  4.903087e+06  \n57688  100497.00  6.127996e+06  \n57689  100068.00  3.106767e+06  \n57690  100129.00  4.996767e+04  \n\n[57691 rows x 7 columns]",
      "text/html": "<div>\n<style scoped>\n    .dataframe tbody tr th:only-of-type {\n        vertical-align: middle;\n    }\n\n    .dataframe tbody tr th {\n        vertical-align: top;\n    }\n\n    .dataframe thead th {\n        text-align: right;\n    }\n</style>\n<table border=\"1\" class=\"dataframe\">\n  <thead>\n    <tr style=\"text-align: right;\">\n      <th></th>\n      <th>BTC:date</th>\n      <th>BTC:unix</th>\n      <th>BTC:open</th>\n      <th>BTC:high</th>\n      <th>BTC:low</th>\n      <th>BTC:close</th>\n      <th>BTC:volume</th>\n    </tr>\n  </thead>\n  <tbody>\n    <tr>\n      <th>0</th>\n      <td>2018-05-15 06:00:00</td>\n      <td>1526364000</td>\n      <td>8733.86</td>\n      <td>8796.68</td>\n      <td>8707.28</td>\n      <td>8740.99</td>\n      <td>5.599300e+02</td>\n    </tr>\n    <tr>\n      <th>1</th>\n      <td>2018-05-15 07:00:00</td>\n      <td>1526367600</td>\n      <td>8740.99</td>\n      <td>8766.00</td>\n      <td>8721.11</td>\n      <td>8739.00</td>\n      <td>2.735800e+02</td>\n    </tr>\n    <tr>\n      <th>2</th>\n      <td>2018-05-15 08:00:00</td>\n      <td>1526371200</td>\n      <td>8739.00</td>\n      <td>8750.27</td>\n      <td>8660.53</td>\n      <td>8728.49</td>\n      <td>9.177900e+02</td>\n    </tr>\n    <tr>\n      <th>3</th>\n      <td>2018-05-15 09:00:00</td>\n      <td>1526374800</td>\n      <td>8728.49</td>\n      <td>8754.40</td>\n      <td>8701.35</td>\n      <td>8708.32</td>\n      <td>1.826200e+02</td>\n    </tr>\n    <tr>\n      <th>4</th>\n      <td>2018-05-15 10:00:00</td>\n      <td>1526378400</td>\n      <td>8708.32</td>\n      <td>8865.00</td>\n      <td>8695.11</td>\n      <td>8795.90</td>\n      <td>1.260690e+03</td>\n    </tr>\n    <tr>\n      <th>...</th>\n      <td>...</td>\n      <td>...</td>\n      <td>...</td>\n      <td>...</td>\n      <td>...</td>\n      <td>...</td>\n      <td>...</td>\n    </tr>\n    <tr>\n      <th>57686</th>\n      <td>2024-12-12 20:00:00</td>\n      <td>1734033600</td>\n      <td>99472.00</td>\n      <td>100408.00</td>\n      <td>99472.00</td>\n      <td>100032.00</td>\n      <td>8.690325e+06</td>\n    </tr>\n    <tr>\n      <th>57687</th>\n      <td>2024-12-12 21:00:00</td>\n      <td>1734037200</td>\n      <td>100036.00</td>\n      <td>100146.00</td>\n      <td>99733.00</td>\n      <td>99884.00</td>\n      <td>4.903087e+06</td>\n    </tr>\n    <tr>\n      <th>57688</th>\n      <td>2024-12-12 22:00:00</td>\n      <td>1734040800</td>\n      <td>99798.00</td>\n      <td>100498.00</td>\n      <td>99553.00</td>\n      <td>100497.00</td>\n      <td>6.127996e+06</td>\n    </tr>\n    <tr>\n      <th>57689</th>\n      <td>2024-12-12 23:00:00</td>\n      <td>1734044400</td>\n      <td>100496.00</td>\n      <td>100496.00</td>\n      <td>99916.00</td>\n      <td>100068.00</td>\n      <td>3.106767e+06</td>\n    </tr>\n    <tr>\n      <th>57690</th>\n      <td>2024-12-13 00:00:00</td>\n      <td>1734048000</td>\n      <td>99998.00</td>\n      <td>100129.00</td>\n      <td>99982.00</td>\n      <td>100129.00</td>\n      <td>4.996767e+04</td>\n    </tr>\n  </tbody>\n</table>\n<p>57691 rows × 7 columns</p>\n</div>"
     },
     "execution_count": 73,
     "metadata": {},
     "output_type": "execute_result"
    }
   ],
   "source": [
    "# FETCH HISTORICAL DATA\n",
    "\n",
    "from torchtrade.data.cdd import CryptoDataDownload\n",
    "import pandas as pd\n",
    "\n",
    "cdd = CryptoDataDownload()\n",
    "\n",
    "bitstamp_data = pd.concat([\n",
    "    cdd.fetch(\"Bitstamp\", \"USD\", \"BTC\", \"1h\").add_prefix(\"BTC:\"),\n",
    "], axis=1)\n",
    "\n",
    "# bitstamp_data.drop(\"BTC:volume\", axis=1, inplace=True)\n",
    "bitstamp_data"
   ]
  },
  {
   "cell_type": "code",
   "outputs": [],
   "source": [
    "# DEFINE EXCHANGES\n",
    "\n",
    "from torchtrade.oms.exchanges import Exchange\n",
    "from torchtrade.feed.core.base import Stream\n",
    "from torchtrade.oms.services.execution.simulated import execute_order\n",
    "\n",
    "\n",
    "bitstamp = Exchange(\"bitstamp\", service=execute_order)(\n",
    "    Stream.source(list(bitstamp_data['BTC:close']), dtype=\"float\").rename(\"USD-BTC\")\n",
    ")"
   ],
   "metadata": {
    "collapsed": false,
    "ExecuteTime": {
     "end_time": "2024-12-13T22:42:21.671322Z",
     "start_time": "2024-12-13T22:42:21.665601Z"
    }
   },
   "id": "531b4abf5c60daef",
   "execution_count": 81
  },
  {
   "cell_type": "code",
   "outputs": [
    {
     "data": {
      "text/plain": "{'bitstamp:/BTC:date': Timestamp('2018-05-15 06:00:00'),\n 'bitstamp:/BTC:unix': 1526364000,\n 'bitstamp:/BTC:open': 8733.86,\n 'bitstamp:/BTC:high': 8796.68,\n 'bitstamp:/BTC:low': 8707.28,\n 'bitstamp:/BTC:close': 8740.99,\n 'bitstamp:/BTC:volume': 559.93,\n 'bitstamp:/BTC:volume_adi': -137.6651163311054,\n 'bitstamp:/BTC:volume_obv': 559.93,\n 'bitstamp:/BTC:volume_cmf': nan,\n 'bitstamp:/BTC:volume_fi': nan,\n 'bitstamp:/BTC:volume_em': nan,\n 'bitstamp:/BTC:volume_sma_em': nan,\n 'bitstamp:/BTC:volume_vpt': nan,\n 'bitstamp:/BTC:volume_vwap': nan,\n 'bitstamp:/BTC:volume_mfi': nan,\n 'bitstamp:/BTC:volume_nvi': 1000.0,\n 'bitstamp:/BTC:volatility_bbm': nan,\n 'bitstamp:/BTC:volatility_bbh': nan,\n 'bitstamp:/BTC:volatility_bbl': nan,\n 'bitstamp:/BTC:volatility_bbw': nan,\n 'bitstamp:/BTC:volatility_bbp': nan,\n 'bitstamp:/BTC:volatility_bbhi': 0.0,\n 'bitstamp:/BTC:volatility_bbli': 0.0,\n 'bitstamp:/BTC:volatility_kcc': nan,\n 'bitstamp:/BTC:volatility_kch': 8837.716666666667,\n 'bitstamp:/BTC:volatility_kcl': 8658.916666666666,\n 'bitstamp:/BTC:volatility_kcw': nan,\n 'bitstamp:/BTC:volatility_kcp': 0.4590231170768077,\n 'bitstamp:/BTC:volatility_kchi': 0.0,\n 'bitstamp:/BTC:volatility_kcli': 0.0,\n 'bitstamp:/BTC:volatility_dcl': nan,\n 'bitstamp:/BTC:volatility_dch': nan,\n 'bitstamp:/BTC:volatility_dcm': nan,\n 'bitstamp:/BTC:volatility_dcw': nan,\n 'bitstamp:/BTC:volatility_dcp': nan,\n 'bitstamp:/BTC:volatility_atr': 0.0,\n 'bitstamp:/BTC:volatility_ui': nan,\n 'bitstamp:/BTC:trend_macd': nan,\n 'bitstamp:/BTC:trend_macd_signal': nan,\n 'bitstamp:/BTC:trend_macd_diff': nan,\n 'bitstamp:/BTC:trend_sma_fast': nan,\n 'bitstamp:/BTC:trend_sma_slow': nan,\n 'bitstamp:/BTC:trend_ema_fast': nan,\n 'bitstamp:/BTC:trend_ema_slow': nan,\n 'bitstamp:/BTC:trend_vortex_ind_pos': nan,\n 'bitstamp:/BTC:trend_vortex_ind_neg': nan,\n 'bitstamp:/BTC:trend_vortex_ind_diff': nan,\n 'bitstamp:/BTC:trend_trix': nan,\n 'bitstamp:/BTC:trend_mass_index': nan,\n 'bitstamp:/BTC:trend_dpo': nan,\n 'bitstamp:/BTC:trend_kst': nan,\n 'bitstamp:/BTC:trend_kst_sig': nan,\n 'bitstamp:/BTC:trend_kst_diff': nan,\n 'bitstamp:/BTC:trend_ichimoku_conv': nan,\n 'bitstamp:/BTC:trend_ichimoku_base': nan,\n 'bitstamp:/BTC:trend_ichimoku_a': nan,\n 'bitstamp:/BTC:trend_ichimoku_b': 8751.98,\n 'bitstamp:/BTC:trend_stc': nan,\n 'bitstamp:/BTC:trend_adx': 0.0,\n 'bitstamp:/BTC:trend_adx_pos': 0.0,\n 'bitstamp:/BTC:trend_adx_neg': 0.0,\n 'bitstamp:/BTC:trend_cci': nan,\n 'bitstamp:/BTC:trend_visual_ichimoku_a': 28481.712855105263,\n 'bitstamp:/BTC:trend_visual_ichimoku_b': 28421.795922760914,\n 'bitstamp:/BTC:trend_aroon_up': nan,\n 'bitstamp:/BTC:trend_aroon_down': nan,\n 'bitstamp:/BTC:trend_aroon_ind': nan,\n 'bitstamp:/BTC:trend_psar_up': nan,\n 'bitstamp:/BTC:trend_psar_down': nan,\n 'bitstamp:/BTC:trend_psar_up_indicator': 0.0,\n 'bitstamp:/BTC:trend_psar_down_indicator': 0.0,\n 'bitstamp:/BTC:momentum_rsi': nan,\n 'bitstamp:/BTC:momentum_stoch_rsi': nan,\n 'bitstamp:/BTC:momentum_stoch_rsi_k': nan,\n 'bitstamp:/BTC:momentum_stoch_rsi_d': nan,\n 'bitstamp:/BTC:momentum_tsi': nan,\n 'bitstamp:/BTC:momentum_uo': nan,\n 'bitstamp:/BTC:momentum_stoch': nan,\n 'bitstamp:/BTC:momentum_stoch_signal': nan,\n 'bitstamp:/BTC:momentum_wr': nan,\n 'bitstamp:/BTC:momentum_ao': nan,\n 'bitstamp:/BTC:momentum_roc': nan,\n 'bitstamp:/BTC:momentum_ppo': nan,\n 'bitstamp:/BTC:momentum_ppo_signal': nan,\n 'bitstamp:/BTC:momentum_ppo_hist': nan,\n 'bitstamp:/BTC:momentum_pvo': nan,\n 'bitstamp:/BTC:momentum_pvo_signal': nan,\n 'bitstamp:/BTC:momentum_pvo_hist': nan,\n 'bitstamp:/BTC:momentum_kama': nan,\n 'bitstamp:/BTC:others_dr': nan,\n 'bitstamp:/BTC:others_dlr': nan,\n 'bitstamp:/BTC:others_cr': 0.0}"
     },
     "execution_count": 82,
     "metadata": {},
     "output_type": "execute_result"
    }
   ],
   "source": [
    "# DEFINE ADDITIONAL DATA (TA, etc)\n",
    "import ta\n",
    "from torchtrade.feed.core import Stream, DataFeed, NameSpace\n",
    "\n",
    "bitstamp_btc = bitstamp_data.loc[:, bitstamp_data.columns.str.startswith(\"BTC\")].copy()\n",
    "\n",
    "ta.add_all_ta_features(\n",
    "    bitstamp_btc,\n",
    "    colprefix='BTC:',\n",
    "    **{k: \"BTC:\" + k for k in ['open', 'high', 'low', 'close', 'volume']}\n",
    ")\n",
    "\n",
    "with NameSpace(\"bitstamp\"):\n",
    "    bitstamp_steams = [\n",
    "        Stream.source(list(bitstamp_btc[c]), dtype=\"float\").rename(c) for c in bitstamp_btc.columns\n",
    "    ]\n",
    "    \n",
    "feed = DataFeed(bitstamp_steams)\n",
    "\n",
    "feed.next()"
   ],
   "metadata": {
    "collapsed": false,
    "ExecuteTime": {
     "end_time": "2024-12-13T22:42:30.523623Z",
     "start_time": "2024-12-13T22:42:22.623604Z"
    }
   },
   "id": "bcd9bbd5ae161feb",
   "execution_count": 82
  },
  {
   "cell_type": "code",
   "outputs": [],
   "source": [
    "# SET PORTFOLIO\n",
    "from torchtrade.oms.wallets.wallet import Wallet\n",
    "from torchtrade.oms.wallets.portfolio import Portfolio\n",
    "\n",
    "from torchtrade.oms.instruments import USD, BTC, ETH, LTC\n",
    "\n",
    "portfolio = Portfolio(\n",
    "    base_instrument=USD, \n",
    "    wallets=[\n",
    "        Wallet(bitstamp, 1 * BTC),\n",
    "        # Wallet(bitstamp, 1 * BTC),\n",
    "        # ...\n",
    "    ]\n",
    ")"
   ],
   "metadata": {
    "collapsed": false,
    "ExecuteTime": {
     "end_time": "2024-12-13T22:44:05.653787Z",
     "start_time": "2024-12-13T22:44:05.650228Z"
    }
   },
   "id": "8c65b1a862ac1bfb",
   "execution_count": 88
  },
  {
   "cell_type": "code",
   "outputs": [
    {
     "ename": "AttributeError",
     "evalue": "'IterableStream' object has no attribute 'mul'",
     "output_type": "error",
     "traceback": [
      "\u001B[1;31m---------------------------------------------------------------------------\u001B[0m",
      "\u001B[1;31mAttributeError\u001B[0m                            Traceback (most recent call last)",
      "Cell \u001B[1;32mIn[90], line 4\u001B[0m\n\u001B[0;32m      1\u001B[0m \u001B[38;5;66;03m# ENVIRONMENT\u001B[39;00m\n\u001B[0;32m      2\u001B[0m \u001B[38;5;28;01mimport\u001B[39;00m \u001B[38;5;21;01mtorchtrade\u001B[39;00m\u001B[38;5;21;01m.\u001B[39;00m\u001B[38;5;21;01menv\u001B[39;00m\u001B[38;5;21;01m.\u001B[39;00m\u001B[38;5;21;01mdefault\u001B[39;00m \u001B[38;5;28;01mas\u001B[39;00m \u001B[38;5;21;01mdefault\u001B[39;00m\n\u001B[1;32m----> 4\u001B[0m env \u001B[38;5;241m=\u001B[39m \u001B[43mdefault\u001B[49m\u001B[38;5;241;43m.\u001B[39;49m\u001B[43mcreate\u001B[49m\u001B[43m(\u001B[49m\n\u001B[0;32m      5\u001B[0m \u001B[43m    \u001B[49m\u001B[43mportfolio\u001B[49m\u001B[38;5;241;43m=\u001B[39;49m\u001B[43mportfolio\u001B[49m\u001B[43m,\u001B[49m\n\u001B[0;32m      6\u001B[0m \u001B[43m    \u001B[49m\u001B[43maction_scheme\u001B[49m\u001B[38;5;241;43m=\u001B[39;49m\u001B[38;5;124;43m\"\u001B[39;49m\u001B[38;5;124;43mmanaged-risk\u001B[39;49m\u001B[38;5;124;43m\"\u001B[39;49m\u001B[43m,\u001B[49m\n\u001B[0;32m      7\u001B[0m \u001B[43m    \u001B[49m\u001B[43mreward_scheme\u001B[49m\u001B[38;5;241;43m=\u001B[39;49m\u001B[38;5;124;43m\"\u001B[39;49m\u001B[38;5;124;43msimple\u001B[39;49m\u001B[38;5;124;43m\"\u001B[39;49m\u001B[43m,\u001B[49m\n\u001B[0;32m      8\u001B[0m \u001B[43m    \u001B[49m\u001B[43mfeed\u001B[49m\u001B[38;5;241;43m=\u001B[39;49m\u001B[43mfeed\u001B[49m\u001B[43m,\u001B[49m\n\u001B[0;32m      9\u001B[0m \u001B[43m    \u001B[49m\u001B[43mwindow_size\u001B[49m\u001B[38;5;241;43m=\u001B[39;49m\u001B[38;5;241;43m15\u001B[39;49m\u001B[43m,\u001B[49m\n\u001B[0;32m     10\u001B[0m \u001B[43m    \u001B[49m\u001B[43menable_logger\u001B[49m\u001B[38;5;241;43m=\u001B[39;49m\u001B[38;5;28;43;01mTrue\u001B[39;49;00m\n\u001B[0;32m     11\u001B[0m \u001B[43m)\u001B[49m\n\u001B[0;32m     13\u001B[0m env\u001B[38;5;241m.\u001B[39mobserver\u001B[38;5;241m.\u001B[39mfeed\u001B[38;5;241m.\u001B[39mnext()\n",
      "File \u001B[1;32mF:\\DADOS TRAMPO\\GIT\\torchtrade\\torchtrade\\env\\default\\__init__.py:60\u001B[0m, in \u001B[0;36mcreate\u001B[1;34m(portfolio, action_scheme, reward_scheme, feed, window_size, min_periods, random_start_pct, **kwargs)\u001B[0m\n\u001B[0;32m     56\u001B[0m reward_scheme \u001B[38;5;241m=\u001B[39m rewards\u001B[38;5;241m.\u001B[39mget(reward_scheme) \u001B[38;5;28;01mif\u001B[39;00m \u001B[38;5;28misinstance\u001B[39m(reward_scheme, \u001B[38;5;28mstr\u001B[39m) \u001B[38;5;28;01melse\u001B[39;00m reward_scheme\n\u001B[0;32m     58\u001B[0m action_scheme\u001B[38;5;241m.\u001B[39mportfolio \u001B[38;5;241m=\u001B[39m portfolio\n\u001B[1;32m---> 60\u001B[0m observer \u001B[38;5;241m=\u001B[39m \u001B[43mobservers\u001B[49m\u001B[38;5;241;43m.\u001B[39;49m\u001B[43mTorchTradeObserver\u001B[49m\u001B[43m(\u001B[49m\n\u001B[0;32m     61\u001B[0m \u001B[43m    \u001B[49m\u001B[43mportfolio\u001B[49m\u001B[38;5;241;43m=\u001B[39;49m\u001B[43mportfolio\u001B[49m\u001B[43m,\u001B[49m\n\u001B[0;32m     62\u001B[0m \u001B[43m    \u001B[49m\u001B[43mfeed\u001B[49m\u001B[38;5;241;43m=\u001B[39;49m\u001B[43mfeed\u001B[49m\u001B[43m,\u001B[49m\n\u001B[0;32m     63\u001B[0m \u001B[43m    \u001B[49m\u001B[43mrenderer_feed\u001B[49m\u001B[38;5;241;43m=\u001B[39;49m\u001B[43mkwargs\u001B[49m\u001B[38;5;241;43m.\u001B[39;49m\u001B[43mget\u001B[49m\u001B[43m(\u001B[49m\u001B[38;5;124;43m\"\u001B[39;49m\u001B[38;5;124;43mrenderer_feed\u001B[39;49m\u001B[38;5;124;43m\"\u001B[39;49m\u001B[43m,\u001B[49m\u001B[43m \u001B[49m\u001B[38;5;28;43;01mNone\u001B[39;49;00m\u001B[43m)\u001B[49m\u001B[43m,\u001B[49m\n\u001B[0;32m     64\u001B[0m \u001B[43m    \u001B[49m\u001B[43mwindow_size\u001B[49m\u001B[38;5;241;43m=\u001B[39;49m\u001B[43mwindow_size\u001B[49m\u001B[43m,\u001B[49m\n\u001B[0;32m     65\u001B[0m \u001B[43m    \u001B[49m\u001B[43mmin_periods\u001B[49m\u001B[38;5;241;43m=\u001B[39;49m\u001B[43mmin_periods\u001B[49m\n\u001B[0;32m     66\u001B[0m \u001B[43m\u001B[49m\u001B[43m)\u001B[49m\n\u001B[0;32m     68\u001B[0m stopper \u001B[38;5;241m=\u001B[39m stoppers\u001B[38;5;241m.\u001B[39mMaxLossStopper(\n\u001B[0;32m     69\u001B[0m     max_allowed_loss\u001B[38;5;241m=\u001B[39mkwargs\u001B[38;5;241m.\u001B[39mget(\u001B[38;5;124m\"\u001B[39m\u001B[38;5;124mmax_allowed_loss\u001B[39m\u001B[38;5;124m\"\u001B[39m, \u001B[38;5;241m0.5\u001B[39m)\n\u001B[0;32m     70\u001B[0m )\n\u001B[0;32m     72\u001B[0m renderer_list \u001B[38;5;241m=\u001B[39m kwargs\u001B[38;5;241m.\u001B[39mget(\u001B[38;5;124m\"\u001B[39m\u001B[38;5;124mrenderer\u001B[39m\u001B[38;5;124m\"\u001B[39m, renderers\u001B[38;5;241m.\u001B[39mEmptyRenderer())\n",
      "File \u001B[1;32mF:\\DADOS TRAMPO\\GIT\\torchtrade\\torchtrade\\core\\component.py:41\u001B[0m, in \u001B[0;36mInitContextMeta.__call__\u001B[1;34m(cls, *args, **kwargs)\u001B[0m\n\u001B[0;32m     39\u001B[0m instance \u001B[38;5;241m=\u001B[39m \u001B[38;5;28mcls\u001B[39m\u001B[38;5;241m.\u001B[39m\u001B[38;5;21m__new__\u001B[39m(\u001B[38;5;28mcls\u001B[39m, \u001B[38;5;241m*\u001B[39margs, \u001B[38;5;241m*\u001B[39m\u001B[38;5;241m*\u001B[39mkwargs)\n\u001B[0;32m     40\u001B[0m \u001B[38;5;28msetattr\u001B[39m(instance, \u001B[38;5;124m'\u001B[39m\u001B[38;5;124mcontext\u001B[39m\u001B[38;5;124m'\u001B[39m, Context(\u001B[38;5;241m*\u001B[39m\u001B[38;5;241m*\u001B[39mconfig))\n\u001B[1;32m---> 41\u001B[0m \u001B[43minstance\u001B[49m\u001B[38;5;241;43m.\u001B[39;49m\u001B[38;5;21;43m__init__\u001B[39;49m\u001B[43m(\u001B[49m\u001B[38;5;241;43m*\u001B[39;49m\u001B[43margs\u001B[49m\u001B[43m,\u001B[49m\u001B[43m \u001B[49m\u001B[38;5;241;43m*\u001B[39;49m\u001B[38;5;241;43m*\u001B[39;49m\u001B[43mkwargs\u001B[49m\u001B[43m)\u001B[49m\n\u001B[0;32m     43\u001B[0m \u001B[38;5;28;01mreturn\u001B[39;00m instance\n",
      "File \u001B[1;32mF:\\DADOS TRAMPO\\GIT\\torchtrade\\torchtrade\\env\\default\\observers.py:192\u001B[0m, in \u001B[0;36mTorchTradeObserver.__init__\u001B[1;34m(self, portfolio, feed, renderer_feed, window_size, min_periods, **kwargs)\u001B[0m\n\u001B[0;32m    185\u001B[0m \u001B[38;5;28;01mdef\u001B[39;00m \u001B[38;5;21m__init__\u001B[39m(\u001B[38;5;28mself\u001B[39m,\n\u001B[0;32m    186\u001B[0m              portfolio: \u001B[38;5;124m'\u001B[39m\u001B[38;5;124mPortfolio\u001B[39m\u001B[38;5;124m'\u001B[39m,\n\u001B[0;32m    187\u001B[0m              feed: \u001B[38;5;124m'\u001B[39m\u001B[38;5;124mDataFeed\u001B[39m\u001B[38;5;124m'\u001B[39m \u001B[38;5;241m=\u001B[39m \u001B[38;5;28;01mNone\u001B[39;00m,\n\u001B[1;32m   (...)\u001B[0m\n\u001B[0;32m    190\u001B[0m              min_periods: \u001B[38;5;28mint\u001B[39m \u001B[38;5;241m=\u001B[39m \u001B[38;5;28;01mNone\u001B[39;00m,\n\u001B[0;32m    191\u001B[0m              \u001B[38;5;241m*\u001B[39m\u001B[38;5;241m*\u001B[39mkwargs) \u001B[38;5;241m-\u001B[39m\u001B[38;5;241m>\u001B[39m \u001B[38;5;28;01mNone\u001B[39;00m:\n\u001B[1;32m--> 192\u001B[0m     internal_group \u001B[38;5;241m=\u001B[39m Stream\u001B[38;5;241m.\u001B[39mgroup(\u001B[43m_create_internal_streams\u001B[49m\u001B[43m(\u001B[49m\u001B[43mportfolio\u001B[49m\u001B[43m)\u001B[49m)\u001B[38;5;241m.\u001B[39mrename(\u001B[38;5;124m\"\u001B[39m\u001B[38;5;124minternal\u001B[39m\u001B[38;5;124m\"\u001B[39m)\n\u001B[0;32m    193\u001B[0m     external_group \u001B[38;5;241m=\u001B[39m Stream\u001B[38;5;241m.\u001B[39mgroup(feed\u001B[38;5;241m.\u001B[39minputs)\u001B[38;5;241m.\u001B[39mrename(\u001B[38;5;124m\"\u001B[39m\u001B[38;5;124mexternal\u001B[39m\u001B[38;5;124m\"\u001B[39m)\n\u001B[0;32m    195\u001B[0m     \u001B[38;5;28;01mif\u001B[39;00m renderer_feed:\n",
      "File \u001B[1;32mF:\\DADOS TRAMPO\\GIT\\torchtrade\\torchtrade\\env\\default\\observers.py:73\u001B[0m, in \u001B[0;36m_create_internal_streams\u001B[1;34m(portfolio)\u001B[0m\n\u001B[0;32m     71\u001B[0m     symbol \u001B[38;5;241m=\u001B[39m wallet\u001B[38;5;241m.\u001B[39minstrument\u001B[38;5;241m.\u001B[39msymbol\n\u001B[0;32m     72\u001B[0m     sources \u001B[38;5;241m+\u001B[39m\u001B[38;5;241m=\u001B[39m wallet\u001B[38;5;241m.\u001B[39mexchange\u001B[38;5;241m.\u001B[39mstreams()\n\u001B[1;32m---> 73\u001B[0m     sources \u001B[38;5;241m+\u001B[39m\u001B[38;5;241m=\u001B[39m \u001B[43m_create_wallet_source\u001B[49m\u001B[43m(\u001B[49m\u001B[43mwallet\u001B[49m\u001B[43m,\u001B[49m\u001B[43m \u001B[49m\u001B[43minclude_worth\u001B[49m\u001B[38;5;241;43m=\u001B[39;49m\u001B[43m(\u001B[49m\u001B[43msymbol\u001B[49m\u001B[43m \u001B[49m\u001B[38;5;241;43m!=\u001B[39;49m\u001B[43m \u001B[49m\u001B[43mbase_symbol\u001B[49m\u001B[43m)\u001B[49m\u001B[43m)\u001B[49m\n\u001B[0;32m     75\u001B[0m worth_streams \u001B[38;5;241m=\u001B[39m []\n\u001B[0;32m     76\u001B[0m \u001B[38;5;28;01mfor\u001B[39;00m s \u001B[38;5;129;01min\u001B[39;00m sources:\n",
      "File \u001B[1;32mF:\\DADOS TRAMPO\\GIT\\torchtrade\\torchtrade\\env\\default\\observers.py:48\u001B[0m, in \u001B[0;36m_create_wallet_source\u001B[1;34m(wallet, include_worth)\u001B[0m\n\u001B[0;32m     46\u001B[0m     \u001B[38;5;28;01mif\u001B[39;00m include_worth:\n\u001B[0;32m     47\u001B[0m         price \u001B[38;5;241m=\u001B[39m Stream\u001B[38;5;241m.\u001B[39mselect(wallet\u001B[38;5;241m.\u001B[39mexchange\u001B[38;5;241m.\u001B[39mstreams(), \u001B[38;5;28;01mlambda\u001B[39;00m node: node\u001B[38;5;241m.\u001B[39mname\u001B[38;5;241m.\u001B[39mendswith(symbol))\n\u001B[1;32m---> 48\u001B[0m         worth \u001B[38;5;241m=\u001B[39m \u001B[43mprice\u001B[49m\u001B[38;5;241;43m.\u001B[39;49m\u001B[43mmul\u001B[49m(total_balance)\u001B[38;5;241m.\u001B[39mrename(\u001B[38;5;124m'\u001B[39m\u001B[38;5;124mworth\u001B[39m\u001B[38;5;124m'\u001B[39m)\n\u001B[0;32m     49\u001B[0m         streams \u001B[38;5;241m+\u001B[39m\u001B[38;5;241m=\u001B[39m [worth]\n\u001B[0;32m     51\u001B[0m \u001B[38;5;28;01mreturn\u001B[39;00m streams\n",
      "\u001B[1;31mAttributeError\u001B[0m: 'IterableStream' object has no attribute 'mul'"
     ]
    }
   ],
   "source": [
    "# ENVIRONMENT\n",
    "import torchtrade.env.default as default\n",
    "\n",
    "env = default.create(\n",
    "    portfolio=portfolio,\n",
    "    action_scheme=\"managed-risk\",\n",
    "    reward_scheme=\"simple\",\n",
    "    feed=feed,\n",
    "    window_size=15,\n",
    "    enable_logger=True\n",
    ")\n",
    "\n",
    "env.observer.feed.next()"
   ],
   "metadata": {
    "collapsed": false,
    "ExecuteTime": {
     "end_time": "2024-12-13T22:44:58.740060Z",
     "start_time": "2024-12-13T22:44:58.688280Z"
    }
   },
   "id": "eb597ceead06ea3e",
   "execution_count": 90
  },
  {
   "cell_type": "code",
   "outputs": [],
   "source": [],
   "metadata": {
    "collapsed": false
   },
   "id": "24af69cc652c97a5"
  }
 ],
 "metadata": {
  "kernelspec": {
   "display_name": "Python 3",
   "language": "python",
   "name": "python3"
  },
  "language_info": {
   "codemirror_mode": {
    "name": "ipython",
    "version": 2
   },
   "file_extension": ".py",
   "mimetype": "text/x-python",
   "name": "python",
   "nbconvert_exporter": "python",
   "pygments_lexer": "ipython2",
   "version": "2.7.6"
  }
 },
 "nbformat": 4,
 "nbformat_minor": 5
}
