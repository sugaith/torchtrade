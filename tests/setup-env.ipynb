{
 "cells": [
  {
   "cell_type": "code",
   "execution_count": null,
   "outputs": [],
   "source": [
    "import ta\n",
    "\n",
    "import pandas as pd\n",
    "import tensortrade.env.default as default\n",
    "\n",
    "from tensortrade.data.cdd import CryptoDataDownload\n",
    "from tensortrade.feed.core import Stream, DataFeed, NameSpace\n",
    "from tensortrade.oms.instruments import USD, BTC, ETH, LTC\n",
    "from tensortrade.oms.wallets import Wallet, Portfolio\n",
    "from tensortrade.oms.exchanges import Exchange\n",
    "from tensortrade.oms.services.execution.simulated import execute_order\n",
    "from tensortrade.agents import DQNAgent\n",
    "\n"
   ],
   "metadata": {
    "collapsed": false
   },
   "id": "31efe67471aad628"
  },
  {
   "cell_type": "code",
   "execution_count": null,
   "outputs": [],
   "source": [
    "# FETCH HISTORICAL DATA\n",
    "\n",
    "cdd = CryptoDataDownload()\n",
    "\n",
    "bitstamp_data = pd.concat([\n",
    "    cdd.fetch(\"Bitstamp\", \"USD\", \"BTC\", \"1h\").add_prefix(\"BTC:\"),\n",
    "], axis=1)\n",
    "\n",
    "bitstamp_data\n"
   ],
   "metadata": {
    "collapsed": false
   },
   "id": "b5f020bf0455eb"
  },
  {
   "cell_type": "code",
   "outputs": [],
   "source": [
    "# DEFINE EXCHANGES\n",
    "\n",
    "bitstamp = Exchange(\"bitstamp\", service=execute_order)(\n",
    "    Stream.source(list(bitstamp_data['BTC:close']), dtype=\"float\").rename(\"USD-BTC\")\n",
    ")"
   ],
   "metadata": {
    "collapsed": false,
    "ExecuteTime": {
     "end_time": "2024-11-28T23:16:24.072006Z",
     "start_time": "2024-11-28T23:16:24.066105Z"
    }
   },
   "id": "bdca9b6c8424ec3b",
   "execution_count": 3
  },
  {
   "cell_type": "code",
   "outputs": [],
   "source": [
    "# DEFINE ADDITIONAL DATA (TA, etc)\n",
    "\n",
    "bitstamp_btc = bitstamp_data.loc[:, bitstamp_data.columns.str.startswith(\"BTC\")].copy()\n",
    "\n",
    "ta.add_all_ta_features(\n",
    "    bitstamp_btc,\n",
    "    colprefix='BTC:',\n",
    "    **{k: \"BTC:\" + k for k in ['open', 'high', 'low', 'close', 'volume']}\n",
    ")\n",
    "\n",
    "with NameSpace(\"bitstamp\"):\n",
    "    bitstamp_steams = [\n",
    "        Stream.source(list(bitstamp_btc[c]), dtype=\"float\").rename(c) for c in bitstamp_btc.columns\n",
    "    ]\n",
    "    \n",
    "feed = DataFeed(bitstamp_steams)\n",
    "\n",
    "feed.next()"
   ],
   "metadata": {
    "collapsed": false
   },
   "id": "e4f6d86029f552cf",
   "execution_count": null
  },
  {
   "cell_type": "code",
   "outputs": [],
   "source": [
    "# PORTFOLIO\n",
    "portfolio = Portfolio(USD, [\n",
    "    Wallet(bitstamp, 1 * BTC),\n",
    "    # Wallet(bitstamp, 1 * BTC),\n",
    "    # ...\n",
    "])"
   ],
   "metadata": {
    "collapsed": false,
    "ExecuteTime": {
     "end_time": "2024-11-28T23:16:46.731225Z",
     "start_time": "2024-11-28T23:16:46.727678Z"
    }
   },
   "id": "bcff76a5259a9dfb",
   "execution_count": 5
  },
  {
   "cell_type": "code",
   "outputs": [
    {
     "data": {
      "text/plain": "{'internal': {'bitstamp:/USD-BTC': 8740.99,\n  'bitstamp:/BTC:/free': 1.0,\n  'bitstamp:/BTC:/locked': 0.0,\n  'bitstamp:/BTC:/total': 1.0,\n  'bitstamp:/BTC:/worth': 8740.99,\n  'net_worth': 8740.99},\n 'external': {'bitstamp:/BTC:date': Timestamp('2018-05-15 06:00:00'),\n  'bitstamp:/BTC:unix': 1526364000,\n  'bitstamp:/BTC:open': 8733.86,\n  'bitstamp:/BTC:high': 8796.68,\n  'bitstamp:/BTC:low': 8707.28,\n  'bitstamp:/BTC:close': 8740.99,\n  'bitstamp:/BTC:volume': 559.93,\n  'bitstamp:/BTC:volume_adi': -137.6651163311054,\n  'bitstamp:/BTC:volume_obv': 559.93,\n  'bitstamp:/BTC:volume_cmf': nan,\n  'bitstamp:/BTC:volume_fi': nan,\n  'bitstamp:/BTC:volume_em': nan,\n  'bitstamp:/BTC:volume_sma_em': nan,\n  'bitstamp:/BTC:volume_vpt': nan,\n  'bitstamp:/BTC:volume_vwap': nan,\n  'bitstamp:/BTC:volume_mfi': nan,\n  'bitstamp:/BTC:volume_nvi': 1000.0,\n  'bitstamp:/BTC:volatility_bbm': nan,\n  'bitstamp:/BTC:volatility_bbh': nan,\n  'bitstamp:/BTC:volatility_bbl': nan,\n  'bitstamp:/BTC:volatility_bbw': nan,\n  'bitstamp:/BTC:volatility_bbp': nan,\n  'bitstamp:/BTC:volatility_bbhi': 0.0,\n  'bitstamp:/BTC:volatility_bbli': 0.0,\n  'bitstamp:/BTC:volatility_kcc': nan,\n  'bitstamp:/BTC:volatility_kch': 8837.716666666667,\n  'bitstamp:/BTC:volatility_kcl': 8658.916666666666,\n  'bitstamp:/BTC:volatility_kcw': nan,\n  'bitstamp:/BTC:volatility_kcp': 0.4590231170768077,\n  'bitstamp:/BTC:volatility_kchi': 0.0,\n  'bitstamp:/BTC:volatility_kcli': 0.0,\n  'bitstamp:/BTC:volatility_dcl': nan,\n  'bitstamp:/BTC:volatility_dch': nan,\n  'bitstamp:/BTC:volatility_dcm': nan,\n  'bitstamp:/BTC:volatility_dcw': nan,\n  'bitstamp:/BTC:volatility_dcp': nan,\n  'bitstamp:/BTC:volatility_atr': 0.0,\n  'bitstamp:/BTC:volatility_ui': nan,\n  'bitstamp:/BTC:trend_macd': nan,\n  'bitstamp:/BTC:trend_macd_signal': nan,\n  'bitstamp:/BTC:trend_macd_diff': nan,\n  'bitstamp:/BTC:trend_sma_fast': nan,\n  'bitstamp:/BTC:trend_sma_slow': nan,\n  'bitstamp:/BTC:trend_ema_fast': nan,\n  'bitstamp:/BTC:trend_ema_slow': nan,\n  'bitstamp:/BTC:trend_vortex_ind_pos': nan,\n  'bitstamp:/BTC:trend_vortex_ind_neg': nan,\n  'bitstamp:/BTC:trend_vortex_ind_diff': nan,\n  'bitstamp:/BTC:trend_trix': nan,\n  'bitstamp:/BTC:trend_mass_index': nan,\n  'bitstamp:/BTC:trend_dpo': nan,\n  'bitstamp:/BTC:trend_kst': nan,\n  'bitstamp:/BTC:trend_kst_sig': nan,\n  'bitstamp:/BTC:trend_kst_diff': nan,\n  'bitstamp:/BTC:trend_ichimoku_conv': nan,\n  'bitstamp:/BTC:trend_ichimoku_base': nan,\n  'bitstamp:/BTC:trend_ichimoku_a': nan,\n  'bitstamp:/BTC:trend_ichimoku_b': 8751.98,\n  'bitstamp:/BTC:trend_stc': nan,\n  'bitstamp:/BTC:trend_adx': 0.0,\n  'bitstamp:/BTC:trend_adx_pos': 0.0,\n  'bitstamp:/BTC:trend_adx_neg': 0.0,\n  'bitstamp:/BTC:trend_cci': nan,\n  'bitstamp:/BTC:trend_visual_ichimoku_a': 28046.92958856839,\n  'bitstamp:/BTC:trend_visual_ichimoku_b': 27989.544331687917,\n  'bitstamp:/BTC:trend_aroon_up': nan,\n  'bitstamp:/BTC:trend_aroon_down': nan,\n  'bitstamp:/BTC:trend_aroon_ind': nan,\n  'bitstamp:/BTC:trend_psar_up': nan,\n  'bitstamp:/BTC:trend_psar_down': nan,\n  'bitstamp:/BTC:trend_psar_up_indicator': 0.0,\n  'bitstamp:/BTC:trend_psar_down_indicator': 0.0,\n  'bitstamp:/BTC:momentum_rsi': nan,\n  'bitstamp:/BTC:momentum_stoch_rsi': nan,\n  'bitstamp:/BTC:momentum_stoch_rsi_k': nan,\n  'bitstamp:/BTC:momentum_stoch_rsi_d': nan,\n  'bitstamp:/BTC:momentum_tsi': nan,\n  'bitstamp:/BTC:momentum_uo': nan,\n  'bitstamp:/BTC:momentum_stoch': nan,\n  'bitstamp:/BTC:momentum_stoch_signal': nan,\n  'bitstamp:/BTC:momentum_wr': nan,\n  'bitstamp:/BTC:momentum_ao': nan,\n  'bitstamp:/BTC:momentum_roc': nan,\n  'bitstamp:/BTC:momentum_ppo': nan,\n  'bitstamp:/BTC:momentum_ppo_signal': nan,\n  'bitstamp:/BTC:momentum_ppo_hist': nan,\n  'bitstamp:/BTC:momentum_pvo': nan,\n  'bitstamp:/BTC:momentum_pvo_signal': nan,\n  'bitstamp:/BTC:momentum_pvo_hist': nan,\n  'bitstamp:/BTC:momentum_kama': nan,\n  'bitstamp:/BTC:others_dr': nan,\n  'bitstamp:/BTC:others_dlr': nan,\n  'bitstamp:/BTC:others_cr': 0.0}}"
     },
     "execution_count": 6,
     "metadata": {},
     "output_type": "execute_result"
    }
   ],
   "source": [
    "# ENVIRONMENT\n",
    "\n",
    "env = default.create(\n",
    "    portfolio=portfolio,\n",
    "    action_scheme=\"managed-risk\",\n",
    "    reward_scheme=\"simple\",\n",
    "    feed=feed,\n",
    "    window_size=15,\n",
    "    enable_logger=True\n",
    ")\n",
    "\n",
    "env.observer.feed.next()"
   ],
   "metadata": {
    "collapsed": false,
    "ExecuteTime": {
     "end_time": "2024-11-28T23:16:50.201211Z",
     "start_time": "2024-11-28T23:16:50.100133Z"
    }
   },
   "id": "25ab0855caf8389c",
   "execution_count": 6
  },
  {
   "cell_type": "code",
   "outputs": [
    {
     "name": "stderr",
     "output_type": "stream",
     "text": [
      "C:\\Users\\thiago\\AppData\\Local\\Temp\\ipykernel_21376\\2065615943.py:3: DeprecationWarning: Call to deprecated class DQNAgent. (Builtin agents are being deprecated in favor of external implementations (ie: Ray)) -- Deprecated since version 1.0.4.\n",
      "  agent = DQNAgent(env)\n"
     ]
    },
    {
     "ename": "TypeError",
     "evalue": "Error when deserializing class 'Conv1D' using config={'name': 'conv1d_2', 'trainable': True, 'dtype': 'float32', 'filters': 64, 'kernel_size': (4,), 'strides': (2,), 'padding': 'causal', 'data_format': 'channels_last', 'dilation_rate': (1,), 'groups': 1, 'activation': {'module': 'keras.layers', 'class_name': 'PReLU', 'config': {'name': 'p_re_lu_2', 'trainable': True, 'dtype': {'module': 'keras', 'class_name': 'DTypePolicy', 'config': {'name': 'float32'}, 'registered_name': None}, 'alpha_initializer': {'module': 'keras.initializers', 'class_name': 'Zeros', 'config': {}, 'registered_name': None}, 'alpha_regularizer': None, 'alpha_constraint': None, 'shared_axes': None}, 'registered_name': None}, 'use_bias': True, 'kernel_initializer': {'module': 'keras.initializers', 'class_name': 'HeUniform', 'config': {'seed': None}, 'registered_name': None}, 'bias_initializer': {'module': 'keras.initializers', 'class_name': 'Zeros', 'config': {}, 'registered_name': None}, 'kernel_regularizer': None, 'bias_regularizer': None, 'activity_regularizer': None, 'kernel_constraint': None, 'bias_constraint': None}.\n\nException encountered: Could not interpret activation function identifier: {'module': 'keras.layers', 'class_name': 'PReLU', 'config': {'name': 'p_re_lu_2', 'trainable': True, 'dtype': {'module': 'keras', 'class_name': 'DTypePolicy', 'config': {'name': 'float32'}, 'registered_name': None}, 'alpha_initializer': {'module': 'keras.initializers', 'class_name': 'Zeros', 'config': {}, 'registered_name': None}, 'alpha_regularizer': None, 'alpha_constraint': None, 'shared_axes': None}, 'registered_name': None}",
     "output_type": "error",
     "traceback": [
      "\u001B[1;31m---------------------------------------------------------------------------\u001B[0m",
      "\u001B[1;31mValueError\u001B[0m                                Traceback (most recent call last)",
      "File \u001B[1;32m~\\anaconda3\\envs\\tensor-trade-experiments\\Lib\\site-packages\\keras\\src\\ops\\operation.py:234\u001B[0m, in \u001B[0;36mOperation.from_config\u001B[1;34m(cls, config)\u001B[0m\n\u001B[0;32m    233\u001B[0m \u001B[38;5;28;01mtry\u001B[39;00m:\n\u001B[1;32m--> 234\u001B[0m     \u001B[38;5;28;01mreturn\u001B[39;00m \u001B[38;5;28;43mcls\u001B[39;49m\u001B[43m(\u001B[49m\u001B[38;5;241;43m*\u001B[39;49m\u001B[38;5;241;43m*\u001B[39;49m\u001B[43mconfig\u001B[49m\u001B[43m)\u001B[49m\n\u001B[0;32m    235\u001B[0m \u001B[38;5;28;01mexcept\u001B[39;00m \u001B[38;5;167;01mException\u001B[39;00m \u001B[38;5;28;01mas\u001B[39;00m e:\n",
      "File \u001B[1;32m~\\anaconda3\\envs\\tensor-trade-experiments\\Lib\\site-packages\\keras\\src\\layers\\convolutional\\conv1d.py:115\u001B[0m, in \u001B[0;36mConv1D.__init__\u001B[1;34m(self, filters, kernel_size, strides, padding, data_format, dilation_rate, groups, activation, use_bias, kernel_initializer, bias_initializer, kernel_regularizer, bias_regularizer, activity_regularizer, kernel_constraint, bias_constraint, **kwargs)\u001B[0m\n\u001B[0;32m     95\u001B[0m \u001B[38;5;28;01mdef\u001B[39;00m \u001B[38;5;21m__init__\u001B[39m(\n\u001B[0;32m     96\u001B[0m     \u001B[38;5;28mself\u001B[39m,\n\u001B[0;32m     97\u001B[0m     filters,\n\u001B[1;32m   (...)\u001B[0m\n\u001B[0;32m    113\u001B[0m     \u001B[38;5;241m*\u001B[39m\u001B[38;5;241m*\u001B[39mkwargs,\n\u001B[0;32m    114\u001B[0m ):\n\u001B[1;32m--> 115\u001B[0m     \u001B[38;5;28;43msuper\u001B[39;49m\u001B[43m(\u001B[49m\u001B[43m)\u001B[49m\u001B[38;5;241;43m.\u001B[39;49m\u001B[38;5;21;43m__init__\u001B[39;49m\u001B[43m(\u001B[49m\n\u001B[0;32m    116\u001B[0m \u001B[43m        \u001B[49m\u001B[43mrank\u001B[49m\u001B[38;5;241;43m=\u001B[39;49m\u001B[38;5;241;43m1\u001B[39;49m\u001B[43m,\u001B[49m\n\u001B[0;32m    117\u001B[0m \u001B[43m        \u001B[49m\u001B[43mfilters\u001B[49m\u001B[38;5;241;43m=\u001B[39;49m\u001B[43mfilters\u001B[49m\u001B[43m,\u001B[49m\n\u001B[0;32m    118\u001B[0m \u001B[43m        \u001B[49m\u001B[43mkernel_size\u001B[49m\u001B[38;5;241;43m=\u001B[39;49m\u001B[43mkernel_size\u001B[49m\u001B[43m,\u001B[49m\n\u001B[0;32m    119\u001B[0m \u001B[43m        \u001B[49m\u001B[43mstrides\u001B[49m\u001B[38;5;241;43m=\u001B[39;49m\u001B[43mstrides\u001B[49m\u001B[43m,\u001B[49m\n\u001B[0;32m    120\u001B[0m \u001B[43m        \u001B[49m\u001B[43mpadding\u001B[49m\u001B[38;5;241;43m=\u001B[39;49m\u001B[43mpadding\u001B[49m\u001B[43m,\u001B[49m\n\u001B[0;32m    121\u001B[0m \u001B[43m        \u001B[49m\u001B[43mdata_format\u001B[49m\u001B[38;5;241;43m=\u001B[39;49m\u001B[43mdata_format\u001B[49m\u001B[43m,\u001B[49m\n\u001B[0;32m    122\u001B[0m \u001B[43m        \u001B[49m\u001B[43mdilation_rate\u001B[49m\u001B[38;5;241;43m=\u001B[39;49m\u001B[43mdilation_rate\u001B[49m\u001B[43m,\u001B[49m\n\u001B[0;32m    123\u001B[0m \u001B[43m        \u001B[49m\u001B[43mgroups\u001B[49m\u001B[38;5;241;43m=\u001B[39;49m\u001B[43mgroups\u001B[49m\u001B[43m,\u001B[49m\n\u001B[0;32m    124\u001B[0m \u001B[43m        \u001B[49m\u001B[43mactivation\u001B[49m\u001B[38;5;241;43m=\u001B[39;49m\u001B[43mactivation\u001B[49m\u001B[43m,\u001B[49m\n\u001B[0;32m    125\u001B[0m \u001B[43m        \u001B[49m\u001B[43muse_bias\u001B[49m\u001B[38;5;241;43m=\u001B[39;49m\u001B[43muse_bias\u001B[49m\u001B[43m,\u001B[49m\n\u001B[0;32m    126\u001B[0m \u001B[43m        \u001B[49m\u001B[43mkernel_initializer\u001B[49m\u001B[38;5;241;43m=\u001B[39;49m\u001B[43mkernel_initializer\u001B[49m\u001B[43m,\u001B[49m\n\u001B[0;32m    127\u001B[0m \u001B[43m        \u001B[49m\u001B[43mbias_initializer\u001B[49m\u001B[38;5;241;43m=\u001B[39;49m\u001B[43mbias_initializer\u001B[49m\u001B[43m,\u001B[49m\n\u001B[0;32m    128\u001B[0m \u001B[43m        \u001B[49m\u001B[43mkernel_regularizer\u001B[49m\u001B[38;5;241;43m=\u001B[39;49m\u001B[43mkernel_regularizer\u001B[49m\u001B[43m,\u001B[49m\n\u001B[0;32m    129\u001B[0m \u001B[43m        \u001B[49m\u001B[43mbias_regularizer\u001B[49m\u001B[38;5;241;43m=\u001B[39;49m\u001B[43mbias_regularizer\u001B[49m\u001B[43m,\u001B[49m\n\u001B[0;32m    130\u001B[0m \u001B[43m        \u001B[49m\u001B[43mactivity_regularizer\u001B[49m\u001B[38;5;241;43m=\u001B[39;49m\u001B[43mactivity_regularizer\u001B[49m\u001B[43m,\u001B[49m\n\u001B[0;32m    131\u001B[0m \u001B[43m        \u001B[49m\u001B[43mkernel_constraint\u001B[49m\u001B[38;5;241;43m=\u001B[39;49m\u001B[43mkernel_constraint\u001B[49m\u001B[43m,\u001B[49m\n\u001B[0;32m    132\u001B[0m \u001B[43m        \u001B[49m\u001B[43mbias_constraint\u001B[49m\u001B[38;5;241;43m=\u001B[39;49m\u001B[43mbias_constraint\u001B[49m\u001B[43m,\u001B[49m\n\u001B[0;32m    133\u001B[0m \u001B[43m        \u001B[49m\u001B[38;5;241;43m*\u001B[39;49m\u001B[38;5;241;43m*\u001B[39;49m\u001B[43mkwargs\u001B[49m\u001B[43m,\u001B[49m\n\u001B[0;32m    134\u001B[0m \u001B[43m    \u001B[49m\u001B[43m)\u001B[49m\n",
      "File \u001B[1;32m~\\anaconda3\\envs\\tensor-trade-experiments\\Lib\\site-packages\\keras\\src\\layers\\convolutional\\base_conv.py:118\u001B[0m, in \u001B[0;36mBaseConv.__init__\u001B[1;34m(self, rank, filters, kernel_size, strides, padding, data_format, dilation_rate, groups, activation, use_bias, kernel_initializer, bias_initializer, kernel_regularizer, bias_regularizer, activity_regularizer, kernel_constraint, bias_constraint, lora_rank, **kwargs)\u001B[0m\n\u001B[0;32m    117\u001B[0m \u001B[38;5;28mself\u001B[39m\u001B[38;5;241m.\u001B[39mdata_format \u001B[38;5;241m=\u001B[39m standardize_data_format(data_format)\n\u001B[1;32m--> 118\u001B[0m \u001B[38;5;28mself\u001B[39m\u001B[38;5;241m.\u001B[39mactivation \u001B[38;5;241m=\u001B[39m \u001B[43mactivations\u001B[49m\u001B[38;5;241;43m.\u001B[39;49m\u001B[43mget\u001B[49m\u001B[43m(\u001B[49m\u001B[43mactivation\u001B[49m\u001B[43m)\u001B[49m\n\u001B[0;32m    119\u001B[0m \u001B[38;5;28mself\u001B[39m\u001B[38;5;241m.\u001B[39muse_bias \u001B[38;5;241m=\u001B[39m use_bias\n",
      "File \u001B[1;32m~\\anaconda3\\envs\\tensor-trade-experiments\\Lib\\site-packages\\keras\\src\\activations\\__init__.py:120\u001B[0m, in \u001B[0;36mget\u001B[1;34m(identifier)\u001B[0m\n\u001B[0;32m    119\u001B[0m     \u001B[38;5;28;01mreturn\u001B[39;00m obj\n\u001B[1;32m--> 120\u001B[0m \u001B[38;5;28;01mraise\u001B[39;00m \u001B[38;5;167;01mValueError\u001B[39;00m(\n\u001B[0;32m    121\u001B[0m     \u001B[38;5;124mf\u001B[39m\u001B[38;5;124m\"\u001B[39m\u001B[38;5;124mCould not interpret activation function identifier: \u001B[39m\u001B[38;5;132;01m{\u001B[39;00midentifier\u001B[38;5;132;01m}\u001B[39;00m\u001B[38;5;124m\"\u001B[39m\n\u001B[0;32m    122\u001B[0m )\n",
      "\u001B[1;31mValueError\u001B[0m: Could not interpret activation function identifier: {'module': 'keras.layers', 'class_name': 'PReLU', 'config': {'name': 'p_re_lu_2', 'trainable': True, 'dtype': {'module': 'keras', 'class_name': 'DTypePolicy', 'config': {'name': 'float32'}, 'registered_name': None}, 'alpha_initializer': {'module': 'keras.initializers', 'class_name': 'Zeros', 'config': {}, 'registered_name': None}, 'alpha_regularizer': None, 'alpha_constraint': None, 'shared_axes': None}, 'registered_name': None}",
      "\nDuring handling of the above exception, another exception occurred:\n",
      "\u001B[1;31mTypeError\u001B[0m                                 Traceback (most recent call last)",
      "Cell \u001B[1;32mIn[7], line 3\u001B[0m\n\u001B[0;32m      1\u001B[0m \u001B[38;5;66;03m# SETUP AND TRAN DQN AGENT\u001B[39;00m\n\u001B[1;32m----> 3\u001B[0m agent \u001B[38;5;241m=\u001B[39m \u001B[43mDQNAgent\u001B[49m\u001B[43m(\u001B[49m\u001B[43menv\u001B[49m\u001B[43m)\u001B[49m\n\u001B[0;32m      5\u001B[0m agent\u001B[38;5;241m.\u001B[39mtrain(n_steps\u001B[38;5;241m=\u001B[39m\u001B[38;5;241m200\u001B[39m, n_episodes\u001B[38;5;241m=\u001B[39m\u001B[38;5;241m2\u001B[39m, save_path\u001B[38;5;241m=\u001B[39m\u001B[38;5;124m\"\u001B[39m\u001B[38;5;124magents/\u001B[39m\u001B[38;5;124m\"\u001B[39m)\n",
      "File \u001B[1;32m~\\anaconda3\\envs\\tensor-trade-experiments\\Lib\\site-packages\\tensortrade\\agents\\dqn_agent.py:48\u001B[0m, in \u001B[0;36mDQNAgent.__init__\u001B[1;34m(self, env, policy_network)\u001B[0m\n\u001B[0;32m     44\u001B[0m \u001B[38;5;28mself\u001B[39m\u001B[38;5;241m.\u001B[39mobservation_shape \u001B[38;5;241m=\u001B[39m env\u001B[38;5;241m.\u001B[39mobservation_space\u001B[38;5;241m.\u001B[39mshape\n\u001B[0;32m     46\u001B[0m \u001B[38;5;28mself\u001B[39m\u001B[38;5;241m.\u001B[39mpolicy_network \u001B[38;5;241m=\u001B[39m policy_network \u001B[38;5;129;01mor\u001B[39;00m \u001B[38;5;28mself\u001B[39m\u001B[38;5;241m.\u001B[39m_build_policy_network()\n\u001B[1;32m---> 48\u001B[0m \u001B[38;5;28mself\u001B[39m\u001B[38;5;241m.\u001B[39mtarget_network \u001B[38;5;241m=\u001B[39m \u001B[43mtf\u001B[49m\u001B[38;5;241;43m.\u001B[39;49m\u001B[43mkeras\u001B[49m\u001B[38;5;241;43m.\u001B[39;49m\u001B[43mmodels\u001B[49m\u001B[38;5;241;43m.\u001B[39;49m\u001B[43mclone_model\u001B[49m\u001B[43m(\u001B[49m\u001B[38;5;28;43mself\u001B[39;49m\u001B[38;5;241;43m.\u001B[39;49m\u001B[43mpolicy_network\u001B[49m\u001B[43m)\u001B[49m\n\u001B[0;32m     49\u001B[0m \u001B[38;5;28mself\u001B[39m\u001B[38;5;241m.\u001B[39mtarget_network\u001B[38;5;241m.\u001B[39mtrainable \u001B[38;5;241m=\u001B[39m \u001B[38;5;28;01mFalse\u001B[39;00m\n\u001B[0;32m     51\u001B[0m \u001B[38;5;28mself\u001B[39m\u001B[38;5;241m.\u001B[39menv\u001B[38;5;241m.\u001B[39magent_id \u001B[38;5;241m=\u001B[39m \u001B[38;5;28mself\u001B[39m\u001B[38;5;241m.\u001B[39mid\n",
      "File \u001B[1;32m~\\anaconda3\\envs\\tensor-trade-experiments\\Lib\\site-packages\\keras\\src\\models\\cloning.py:182\u001B[0m, in \u001B[0;36mclone_model\u001B[1;34m(model, input_tensors, clone_function, call_function, recursive, **kwargs)\u001B[0m\n\u001B[0;32m    173\u001B[0m     \u001B[38;5;66;03m# If the get_config() method is the same as a regular Functional\u001B[39;00m\n\u001B[0;32m    174\u001B[0m     \u001B[38;5;66;03m# model, we're safe to use _clone_functional_model (which relies\u001B[39;00m\n\u001B[0;32m    175\u001B[0m     \u001B[38;5;66;03m# on a Functional constructor). In the case where the get_config\u001B[39;00m\n\u001B[0;32m    176\u001B[0m     \u001B[38;5;66;03m# is custom, this may not necessarily work, but if clone_function\u001B[39;00m\n\u001B[0;32m    177\u001B[0m     \u001B[38;5;66;03m# or input_tensors are passed, we attempt it anyway\u001B[39;00m\n\u001B[0;32m    178\u001B[0m     \u001B[38;5;66;03m# in order to preserve backwards compatibility.\u001B[39;00m\n\u001B[0;32m    179\u001B[0m     \u001B[38;5;28;01mif\u001B[39;00m utils\u001B[38;5;241m.\u001B[39mis_default(model\u001B[38;5;241m.\u001B[39mget_config) \u001B[38;5;129;01mor\u001B[39;00m (\n\u001B[0;32m    180\u001B[0m         clone_function \u001B[38;5;129;01mor\u001B[39;00m input_tensors\n\u001B[0;32m    181\u001B[0m     ):\n\u001B[1;32m--> 182\u001B[0m         \u001B[38;5;28;01mreturn\u001B[39;00m \u001B[43m_clone_functional_model\u001B[49m\u001B[43m(\u001B[49m\n\u001B[0;32m    183\u001B[0m \u001B[43m            \u001B[49m\u001B[43mmodel\u001B[49m\u001B[43m,\u001B[49m\n\u001B[0;32m    184\u001B[0m \u001B[43m            \u001B[49m\u001B[43mclone_function\u001B[49m\u001B[38;5;241;43m=\u001B[39;49m\u001B[43mclone_function\u001B[49m\u001B[43m,\u001B[49m\n\u001B[0;32m    185\u001B[0m \u001B[43m            \u001B[49m\u001B[43mcall_function\u001B[49m\u001B[38;5;241;43m=\u001B[39;49m\u001B[43mcall_function\u001B[49m\u001B[43m,\u001B[49m\n\u001B[0;32m    186\u001B[0m \u001B[43m            \u001B[49m\u001B[43minput_tensors\u001B[49m\u001B[38;5;241;43m=\u001B[39;49m\u001B[43minput_tensors\u001B[49m\u001B[43m,\u001B[49m\n\u001B[0;32m    187\u001B[0m \u001B[43m        \u001B[49m\u001B[43m)\u001B[49m\n\u001B[0;32m    189\u001B[0m \u001B[38;5;66;03m# Case of a custom model class\u001B[39;00m\n\u001B[0;32m    190\u001B[0m \u001B[38;5;28;01mif\u001B[39;00m clone_function \u001B[38;5;129;01mor\u001B[39;00m input_tensors:\n",
      "File \u001B[1;32m~\\anaconda3\\envs\\tensor-trade-experiments\\Lib\\site-packages\\keras\\src\\models\\cloning.py:393\u001B[0m, in \u001B[0;36m_clone_functional_model\u001B[1;34m(model, clone_function, input_tensors, call_function)\u001B[0m\n\u001B[0;32m    390\u001B[0m     new_layer \u001B[38;5;241m=\u001B[39m clone_function(layer)\n\u001B[0;32m    391\u001B[0m     \u001B[38;5;28;01mreturn\u001B[39;00m new_layer\n\u001B[1;32m--> 393\u001B[0m output_tensors \u001B[38;5;241m=\u001B[39m \u001B[43mmodel\u001B[49m\u001B[38;5;241;43m.\u001B[39;49m\u001B[43m_run_through_graph\u001B[49m\u001B[43m(\u001B[49m\n\u001B[0;32m    394\u001B[0m \u001B[43m    \u001B[49m\u001B[43minput_tensors\u001B[49m\u001B[43m,\u001B[49m\n\u001B[0;32m    395\u001B[0m \u001B[43m    \u001B[49m\u001B[43moperation_fn\u001B[49m\u001B[38;5;241;43m=\u001B[39;49m\u001B[43moperation_fn\u001B[49m\u001B[43m,\u001B[49m\n\u001B[0;32m    396\u001B[0m \u001B[43m    \u001B[49m\u001B[43mcall_fn\u001B[49m\u001B[38;5;241;43m=\u001B[39;49m\u001B[43mcall_function\u001B[49m\u001B[43m,\u001B[49m\n\u001B[0;32m    397\u001B[0m \u001B[43m\u001B[49m\u001B[43m)\u001B[49m\n\u001B[0;32m    399\u001B[0m \u001B[38;5;28;01mif\u001B[39;00m functional_like_constructor(model\u001B[38;5;241m.\u001B[39m\u001B[38;5;18m__class__\u001B[39m):\n\u001B[0;32m    400\u001B[0m     new_model \u001B[38;5;241m=\u001B[39m model\u001B[38;5;241m.\u001B[39m\u001B[38;5;18m__class__\u001B[39m(\n\u001B[0;32m    401\u001B[0m         input_tensors, output_tensors, name\u001B[38;5;241m=\u001B[39mmodel\u001B[38;5;241m.\u001B[39mname\n\u001B[0;32m    402\u001B[0m     )\n",
      "File \u001B[1;32m~\\anaconda3\\envs\\tensor-trade-experiments\\Lib\\site-packages\\keras\\src\\ops\\function.py:167\u001B[0m, in \u001B[0;36mFunction._run_through_graph\u001B[1;34m(self, inputs, operation_fn, call_fn)\u001B[0m\n\u001B[0;32m    164\u001B[0m     \u001B[38;5;28;01mcontinue\u001B[39;00m  \u001B[38;5;66;03m# Node is not computable, try skipping.\u001B[39;00m\n\u001B[0;32m    166\u001B[0m args, kwargs \u001B[38;5;241m=\u001B[39m node\u001B[38;5;241m.\u001B[39marguments\u001B[38;5;241m.\u001B[39mfill_in(tensor_dict)\n\u001B[1;32m--> 167\u001B[0m op \u001B[38;5;241m=\u001B[39m \u001B[43moperation_fn\u001B[49m\u001B[43m(\u001B[49m\u001B[43mnode\u001B[49m\u001B[38;5;241;43m.\u001B[39;49m\u001B[43moperation\u001B[49m\u001B[43m)\u001B[49m\n\u001B[0;32m    168\u001B[0m \u001B[38;5;28;01mif\u001B[39;00m call_fn \u001B[38;5;129;01mis\u001B[39;00m \u001B[38;5;129;01mnot\u001B[39;00m \u001B[38;5;28;01mNone\u001B[39;00m:\n\u001B[0;32m    169\u001B[0m     outputs \u001B[38;5;241m=\u001B[39m call_fn(op, \u001B[38;5;241m*\u001B[39margs, \u001B[38;5;241m*\u001B[39m\u001B[38;5;241m*\u001B[39mkwargs)\n",
      "File \u001B[1;32m~\\anaconda3\\envs\\tensor-trade-experiments\\Lib\\site-packages\\keras\\src\\models\\cloning.py:390\u001B[0m, in \u001B[0;36m_clone_functional_model.<locals>.operation_fn\u001B[1;34m(layer)\u001B[0m\n\u001B[0;32m    389\u001B[0m \u001B[38;5;28;01mdef\u001B[39;00m \u001B[38;5;21moperation_fn\u001B[39m(layer):\n\u001B[1;32m--> 390\u001B[0m     new_layer \u001B[38;5;241m=\u001B[39m \u001B[43mclone_function\u001B[49m\u001B[43m(\u001B[49m\u001B[43mlayer\u001B[49m\u001B[43m)\u001B[49m\n\u001B[0;32m    391\u001B[0m     \u001B[38;5;28;01mreturn\u001B[39;00m new_layer\n",
      "File \u001B[1;32m~\\anaconda3\\envs\\tensor-trade-experiments\\Lib\\site-packages\\keras\\src\\models\\cloning.py:248\u001B[0m, in \u001B[0;36m_wrap_clone_function.<locals>.wrapped_clone_function\u001B[1;34m(layer)\u001B[0m\n\u001B[0;32m    246\u001B[0m         cache[\u001B[38;5;28mid\u001B[39m(layer)] \u001B[38;5;241m=\u001B[39m clone\n\u001B[0;32m    247\u001B[0m         \u001B[38;5;28;01mreturn\u001B[39;00m clone\n\u001B[1;32m--> 248\u001B[0m clone \u001B[38;5;241m=\u001B[39m \u001B[43mclone_function\u001B[49m\u001B[43m(\u001B[49m\u001B[43mlayer\u001B[49m\u001B[43m)\u001B[49m\n\u001B[0;32m    249\u001B[0m cache[\u001B[38;5;28mid\u001B[39m(layer)] \u001B[38;5;241m=\u001B[39m clone\n\u001B[0;32m    250\u001B[0m \u001B[38;5;28;01mreturn\u001B[39;00m clone\n",
      "File \u001B[1;32m~\\anaconda3\\envs\\tensor-trade-experiments\\Lib\\site-packages\\keras\\src\\models\\cloning.py:219\u001B[0m, in \u001B[0;36m_wrap_clone_function.<locals>._clone_layer\u001B[1;34m(layer)\u001B[0m\n\u001B[0;32m    218\u001B[0m \u001B[38;5;28;01mdef\u001B[39;00m \u001B[38;5;21m_clone_layer\u001B[39m(layer):\n\u001B[1;32m--> 219\u001B[0m     \u001B[38;5;28;01mreturn\u001B[39;00m \u001B[43mlayer\u001B[49m\u001B[38;5;241;43m.\u001B[39;49m\u001B[38;5;18;43m__class__\u001B[39;49m\u001B[38;5;241;43m.\u001B[39;49m\u001B[43mfrom_config\u001B[49m\u001B[43m(\u001B[49m\u001B[43mlayer\u001B[49m\u001B[38;5;241;43m.\u001B[39;49m\u001B[43mget_config\u001B[49m\u001B[43m(\u001B[49m\u001B[43m)\u001B[49m\u001B[43m)\u001B[49m\n",
      "File \u001B[1;32m~\\anaconda3\\envs\\tensor-trade-experiments\\Lib\\site-packages\\keras\\src\\ops\\operation.py:236\u001B[0m, in \u001B[0;36mOperation.from_config\u001B[1;34m(cls, config)\u001B[0m\n\u001B[0;32m    234\u001B[0m     \u001B[38;5;28;01mreturn\u001B[39;00m \u001B[38;5;28mcls\u001B[39m(\u001B[38;5;241m*\u001B[39m\u001B[38;5;241m*\u001B[39mconfig)\n\u001B[0;32m    235\u001B[0m \u001B[38;5;28;01mexcept\u001B[39;00m \u001B[38;5;167;01mException\u001B[39;00m \u001B[38;5;28;01mas\u001B[39;00m e:\n\u001B[1;32m--> 236\u001B[0m     \u001B[38;5;28;01mraise\u001B[39;00m \u001B[38;5;167;01mTypeError\u001B[39;00m(\n\u001B[0;32m    237\u001B[0m         \u001B[38;5;124mf\u001B[39m\u001B[38;5;124m\"\u001B[39m\u001B[38;5;124mError when deserializing class \u001B[39m\u001B[38;5;124m'\u001B[39m\u001B[38;5;132;01m{\u001B[39;00m\u001B[38;5;28mcls\u001B[39m\u001B[38;5;241m.\u001B[39m\u001B[38;5;18m__name__\u001B[39m\u001B[38;5;132;01m}\u001B[39;00m\u001B[38;5;124m'\u001B[39m\u001B[38;5;124m using \u001B[39m\u001B[38;5;124m\"\u001B[39m\n\u001B[0;32m    238\u001B[0m         \u001B[38;5;124mf\u001B[39m\u001B[38;5;124m\"\u001B[39m\u001B[38;5;124mconfig=\u001B[39m\u001B[38;5;132;01m{\u001B[39;00mconfig\u001B[38;5;132;01m}\u001B[39;00m\u001B[38;5;124m.\u001B[39m\u001B[38;5;130;01m\\n\u001B[39;00m\u001B[38;5;130;01m\\n\u001B[39;00m\u001B[38;5;124mException encountered: \u001B[39m\u001B[38;5;132;01m{\u001B[39;00me\u001B[38;5;132;01m}\u001B[39;00m\u001B[38;5;124m\"\u001B[39m\n\u001B[0;32m    239\u001B[0m     )\n",
      "\u001B[1;31mTypeError\u001B[0m: Error when deserializing class 'Conv1D' using config={'name': 'conv1d_2', 'trainable': True, 'dtype': 'float32', 'filters': 64, 'kernel_size': (4,), 'strides': (2,), 'padding': 'causal', 'data_format': 'channels_last', 'dilation_rate': (1,), 'groups': 1, 'activation': {'module': 'keras.layers', 'class_name': 'PReLU', 'config': {'name': 'p_re_lu_2', 'trainable': True, 'dtype': {'module': 'keras', 'class_name': 'DTypePolicy', 'config': {'name': 'float32'}, 'registered_name': None}, 'alpha_initializer': {'module': 'keras.initializers', 'class_name': 'Zeros', 'config': {}, 'registered_name': None}, 'alpha_regularizer': None, 'alpha_constraint': None, 'shared_axes': None}, 'registered_name': None}, 'use_bias': True, 'kernel_initializer': {'module': 'keras.initializers', 'class_name': 'HeUniform', 'config': {'seed': None}, 'registered_name': None}, 'bias_initializer': {'module': 'keras.initializers', 'class_name': 'Zeros', 'config': {}, 'registered_name': None}, 'kernel_regularizer': None, 'bias_regularizer': None, 'activity_regularizer': None, 'kernel_constraint': None, 'bias_constraint': None}.\n\nException encountered: Could not interpret activation function identifier: {'module': 'keras.layers', 'class_name': 'PReLU', 'config': {'name': 'p_re_lu_2', 'trainable': True, 'dtype': {'module': 'keras', 'class_name': 'DTypePolicy', 'config': {'name': 'float32'}, 'registered_name': None}, 'alpha_initializer': {'module': 'keras.initializers', 'class_name': 'Zeros', 'config': {}, 'registered_name': None}, 'alpha_regularizer': None, 'alpha_constraint': None, 'shared_axes': None}, 'registered_name': None}"
     ]
    }
   ],
   "source": [
    "# SETUP AND TRAN DQN AGENT\n",
    "\n",
    "agent = DQNAgent(env)\n",
    "\n",
    "agent.train(n_steps=200, n_episodes=2, save_path=\"agents/\")"
   ],
   "metadata": {
    "collapsed": false,
    "ExecuteTime": {
     "end_time": "2024-11-28T23:16:54.816323Z",
     "start_time": "2024-11-28T23:16:53.764421Z"
    }
   },
   "id": "c7d5a6d32a91c3a3",
   "execution_count": 7
  },
  {
   "cell_type": "code",
   "outputs": [],
   "source": [],
   "metadata": {
    "collapsed": false
   },
   "id": "71504ec678ba92e9"
  }
 ],
 "metadata": {
  "kernelspec": {
   "display_name": "Python 3",
   "language": "python",
   "name": "python3"
  },
  "language_info": {
   "codemirror_mode": {
    "name": "ipython",
    "version": 2
   },
   "file_extension": ".py",
   "mimetype": "text/x-python",
   "name": "python",
   "nbconvert_exporter": "python",
   "pygments_lexer": "ipython2",
   "version": "2.7.6"
  }
 },
 "nbformat": 4,
 "nbformat_minor": 5
}
