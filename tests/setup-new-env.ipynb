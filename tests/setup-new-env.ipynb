{
 "cells": [
  {
   "cell_type": "code",
   "execution_count": 5,
   "id": "initial_id",
   "metadata": {
    "collapsed": true,
    "ExecuteTime": {
     "end_time": "2024-12-07T01:14:40.196462Z",
     "start_time": "2024-12-07T01:14:38.339332Z"
    }
   },
   "outputs": [
    {
     "data": {
      "text/plain": "                 BTC:date    BTC:unix   BTC:open   BTC:high    BTC:low  \\\n0     2018-05-15 06:00:00  1526364000    8733.86    8796.68    8707.28   \n1     2018-05-15 07:00:00  1526367600    8740.99    8766.00    8721.11   \n2     2018-05-15 08:00:00  1526371200    8739.00    8750.27    8660.53   \n3     2018-05-15 09:00:00  1526374800    8728.49    8754.40    8701.35   \n4     2018-05-15 10:00:00  1526378400    8708.32    8865.00    8695.11   \n...                   ...         ...        ...        ...        ...   \n57542 2024-12-06 20:00:00  1733515200  101642.00  102098.00  101251.00   \n57543 2024-12-06 21:00:00  1733518800  101558.00  101643.00  100508.00   \n57544 2024-12-06 22:00:00  1733522400  100579.00  100876.00  100518.00   \n57545 2024-12-06 23:00:00  1733526000  100662.00  100744.00   99304.00   \n57546 2024-12-07 00:00:00  1733529600   99898.00  100014.00   99713.00   \n\n       BTC:close    BTC:volume  \n0        8740.99  5.599300e+02  \n1        8739.00  2.735800e+02  \n2        8728.49  9.177900e+02  \n3        8708.32  1.826200e+02  \n4        8795.90  1.260690e+03  \n...          ...           ...  \n57542  101558.00  2.141584e+07  \n57543  100578.00  4.900466e+06  \n57544  100662.00  2.156769e+06  \n57545   99898.00  1.023097e+07  \n57546   99995.00  1.366468e+05  \n\n[57547 rows x 7 columns]",
      "text/html": "<div>\n<style scoped>\n    .dataframe tbody tr th:only-of-type {\n        vertical-align: middle;\n    }\n\n    .dataframe tbody tr th {\n        vertical-align: top;\n    }\n\n    .dataframe thead th {\n        text-align: right;\n    }\n</style>\n<table border=\"1\" class=\"dataframe\">\n  <thead>\n    <tr style=\"text-align: right;\">\n      <th></th>\n      <th>BTC:date</th>\n      <th>BTC:unix</th>\n      <th>BTC:open</th>\n      <th>BTC:high</th>\n      <th>BTC:low</th>\n      <th>BTC:close</th>\n      <th>BTC:volume</th>\n    </tr>\n  </thead>\n  <tbody>\n    <tr>\n      <th>0</th>\n      <td>2018-05-15 06:00:00</td>\n      <td>1526364000</td>\n      <td>8733.86</td>\n      <td>8796.68</td>\n      <td>8707.28</td>\n      <td>8740.99</td>\n      <td>5.599300e+02</td>\n    </tr>\n    <tr>\n      <th>1</th>\n      <td>2018-05-15 07:00:00</td>\n      <td>1526367600</td>\n      <td>8740.99</td>\n      <td>8766.00</td>\n      <td>8721.11</td>\n      <td>8739.00</td>\n      <td>2.735800e+02</td>\n    </tr>\n    <tr>\n      <th>2</th>\n      <td>2018-05-15 08:00:00</td>\n      <td>1526371200</td>\n      <td>8739.00</td>\n      <td>8750.27</td>\n      <td>8660.53</td>\n      <td>8728.49</td>\n      <td>9.177900e+02</td>\n    </tr>\n    <tr>\n      <th>3</th>\n      <td>2018-05-15 09:00:00</td>\n      <td>1526374800</td>\n      <td>8728.49</td>\n      <td>8754.40</td>\n      <td>8701.35</td>\n      <td>8708.32</td>\n      <td>1.826200e+02</td>\n    </tr>\n    <tr>\n      <th>4</th>\n      <td>2018-05-15 10:00:00</td>\n      <td>1526378400</td>\n      <td>8708.32</td>\n      <td>8865.00</td>\n      <td>8695.11</td>\n      <td>8795.90</td>\n      <td>1.260690e+03</td>\n    </tr>\n    <tr>\n      <th>...</th>\n      <td>...</td>\n      <td>...</td>\n      <td>...</td>\n      <td>...</td>\n      <td>...</td>\n      <td>...</td>\n      <td>...</td>\n    </tr>\n    <tr>\n      <th>57542</th>\n      <td>2024-12-06 20:00:00</td>\n      <td>1733515200</td>\n      <td>101642.00</td>\n      <td>102098.00</td>\n      <td>101251.00</td>\n      <td>101558.00</td>\n      <td>2.141584e+07</td>\n    </tr>\n    <tr>\n      <th>57543</th>\n      <td>2024-12-06 21:00:00</td>\n      <td>1733518800</td>\n      <td>101558.00</td>\n      <td>101643.00</td>\n      <td>100508.00</td>\n      <td>100578.00</td>\n      <td>4.900466e+06</td>\n    </tr>\n    <tr>\n      <th>57544</th>\n      <td>2024-12-06 22:00:00</td>\n      <td>1733522400</td>\n      <td>100579.00</td>\n      <td>100876.00</td>\n      <td>100518.00</td>\n      <td>100662.00</td>\n      <td>2.156769e+06</td>\n    </tr>\n    <tr>\n      <th>57545</th>\n      <td>2024-12-06 23:00:00</td>\n      <td>1733526000</td>\n      <td>100662.00</td>\n      <td>100744.00</td>\n      <td>99304.00</td>\n      <td>99898.00</td>\n      <td>1.023097e+07</td>\n    </tr>\n    <tr>\n      <th>57546</th>\n      <td>2024-12-07 00:00:00</td>\n      <td>1733529600</td>\n      <td>99898.00</td>\n      <td>100014.00</td>\n      <td>99713.00</td>\n      <td>99995.00</td>\n      <td>1.366468e+05</td>\n    </tr>\n  </tbody>\n</table>\n<p>57547 rows × 7 columns</p>\n</div>"
     },
     "execution_count": 5,
     "metadata": {},
     "output_type": "execute_result"
    }
   ],
   "source": [
    "# FETCH HISTORICAL DATA\n",
    "\n",
    "from torchtrade.data.cdd import CryptoDataDownload\n",
    "import pandas as pd\n",
    "\n",
    "cdd = CryptoDataDownload()\n",
    "\n",
    "bitstamp_data = pd.concat([\n",
    "    cdd.fetch(\"Bitstamp\", \"USD\", \"BTC\", \"1h\").add_prefix(\"BTC:\"),\n",
    "], axis=1)\n",
    "\n",
    "# bitstamp_data.drop(\"BTC:volume\", axis=1, inplace=True)\n",
    "bitstamp_data"
   ]
  },
  {
   "cell_type": "code",
   "outputs": [],
   "source": [
    "# DEFINE EXCHANGES\n",
    "\n",
    "from torchtrade.oms.exchanges import Exchange\n",
    "from torchtrade.oms.services.execution.simulated import execute_order\n",
    "from torchtrade.feed.core.base import Stream\n",
    "\n",
    "\n",
    "bitstamp = Exchange(\"bitstamp\", service=execute_order)(\n",
    "    Stream.source(list(bitstamp_data['BTC:close']), dtype=\"float\").rename(\"USD-BTC\")\n",
    ")"
   ],
   "metadata": {
    "collapsed": false,
    "ExecuteTime": {
     "end_time": "2024-12-07T01:13:24.002560Z",
     "start_time": "2024-12-07T01:13:23.983688Z"
    }
   },
   "id": "531b4abf5c60daef",
   "execution_count": 3
  },
  {
   "cell_type": "code",
   "outputs": [
    {
     "data": {
      "text/plain": "{'bitstamp:/BTC:date': Timestamp('2018-05-15 06:00:00'),\n 'bitstamp:/BTC:unix': 1526364000,\n 'bitstamp:/BTC:open': 8733.86,\n 'bitstamp:/BTC:high': 8796.68,\n 'bitstamp:/BTC:low': 8707.28,\n 'bitstamp:/BTC:close': 8740.99,\n 'bitstamp:/BTC:volume': 559.93,\n 'bitstamp:/BTC:volume_adi': -137.6651163311054,\n 'bitstamp:/BTC:volume_obv': 559.93,\n 'bitstamp:/BTC:volume_cmf': nan,\n 'bitstamp:/BTC:volume_fi': nan,\n 'bitstamp:/BTC:volume_em': nan,\n 'bitstamp:/BTC:volume_sma_em': nan,\n 'bitstamp:/BTC:volume_vpt': nan,\n 'bitstamp:/BTC:volume_vwap': nan,\n 'bitstamp:/BTC:volume_mfi': nan,\n 'bitstamp:/BTC:volume_nvi': 1000.0,\n 'bitstamp:/BTC:volatility_bbm': nan,\n 'bitstamp:/BTC:volatility_bbh': nan,\n 'bitstamp:/BTC:volatility_bbl': nan,\n 'bitstamp:/BTC:volatility_bbw': nan,\n 'bitstamp:/BTC:volatility_bbp': nan,\n 'bitstamp:/BTC:volatility_bbhi': 0.0,\n 'bitstamp:/BTC:volatility_bbli': 0.0,\n 'bitstamp:/BTC:volatility_kcc': nan,\n 'bitstamp:/BTC:volatility_kch': 8837.716666666667,\n 'bitstamp:/BTC:volatility_kcl': 8658.916666666666,\n 'bitstamp:/BTC:volatility_kcw': nan,\n 'bitstamp:/BTC:volatility_kcp': 0.4590231170768077,\n 'bitstamp:/BTC:volatility_kchi': 0.0,\n 'bitstamp:/BTC:volatility_kcli': 0.0,\n 'bitstamp:/BTC:volatility_dcl': nan,\n 'bitstamp:/BTC:volatility_dch': nan,\n 'bitstamp:/BTC:volatility_dcm': nan,\n 'bitstamp:/BTC:volatility_dcw': nan,\n 'bitstamp:/BTC:volatility_dcp': nan,\n 'bitstamp:/BTC:volatility_atr': 0.0,\n 'bitstamp:/BTC:volatility_ui': nan,\n 'bitstamp:/BTC:trend_macd': nan,\n 'bitstamp:/BTC:trend_macd_signal': nan,\n 'bitstamp:/BTC:trend_macd_diff': nan,\n 'bitstamp:/BTC:trend_sma_fast': nan,\n 'bitstamp:/BTC:trend_sma_slow': nan,\n 'bitstamp:/BTC:trend_ema_fast': nan,\n 'bitstamp:/BTC:trend_ema_slow': nan,\n 'bitstamp:/BTC:trend_vortex_ind_pos': nan,\n 'bitstamp:/BTC:trend_vortex_ind_neg': nan,\n 'bitstamp:/BTC:trend_vortex_ind_diff': nan,\n 'bitstamp:/BTC:trend_trix': nan,\n 'bitstamp:/BTC:trend_mass_index': nan,\n 'bitstamp:/BTC:trend_dpo': nan,\n 'bitstamp:/BTC:trend_kst': nan,\n 'bitstamp:/BTC:trend_kst_sig': nan,\n 'bitstamp:/BTC:trend_kst_diff': nan,\n 'bitstamp:/BTC:trend_ichimoku_conv': nan,\n 'bitstamp:/BTC:trend_ichimoku_base': nan,\n 'bitstamp:/BTC:trend_ichimoku_a': nan,\n 'bitstamp:/BTC:trend_ichimoku_b': 8751.98,\n 'bitstamp:/BTC:trend_stc': nan,\n 'bitstamp:/BTC:trend_adx': 0.0,\n 'bitstamp:/BTC:trend_adx_pos': 0.0,\n 'bitstamp:/BTC:trend_adx_neg': 0.0,\n 'bitstamp:/BTC:trend_cci': nan,\n 'bitstamp:/BTC:trend_visual_ichimoku_a': 28305.167240403673,\n 'bitstamp:/BTC:trend_visual_ichimoku_b': 28246.585522790065,\n 'bitstamp:/BTC:trend_aroon_up': nan,\n 'bitstamp:/BTC:trend_aroon_down': nan,\n 'bitstamp:/BTC:trend_aroon_ind': nan,\n 'bitstamp:/BTC:trend_psar_up': nan,\n 'bitstamp:/BTC:trend_psar_down': nan,\n 'bitstamp:/BTC:trend_psar_up_indicator': 0.0,\n 'bitstamp:/BTC:trend_psar_down_indicator': 0.0,\n 'bitstamp:/BTC:momentum_rsi': nan,\n 'bitstamp:/BTC:momentum_stoch_rsi': nan,\n 'bitstamp:/BTC:momentum_stoch_rsi_k': nan,\n 'bitstamp:/BTC:momentum_stoch_rsi_d': nan,\n 'bitstamp:/BTC:momentum_tsi': nan,\n 'bitstamp:/BTC:momentum_uo': nan,\n 'bitstamp:/BTC:momentum_stoch': nan,\n 'bitstamp:/BTC:momentum_stoch_signal': nan,\n 'bitstamp:/BTC:momentum_wr': nan,\n 'bitstamp:/BTC:momentum_ao': nan,\n 'bitstamp:/BTC:momentum_roc': nan,\n 'bitstamp:/BTC:momentum_ppo': nan,\n 'bitstamp:/BTC:momentum_ppo_signal': nan,\n 'bitstamp:/BTC:momentum_ppo_hist': nan,\n 'bitstamp:/BTC:momentum_pvo': nan,\n 'bitstamp:/BTC:momentum_pvo_signal': nan,\n 'bitstamp:/BTC:momentum_pvo_hist': nan,\n 'bitstamp:/BTC:momentum_kama': nan,\n 'bitstamp:/BTC:others_dr': nan,\n 'bitstamp:/BTC:others_dlr': nan,\n 'bitstamp:/BTC:others_cr': 0.0}"
     },
     "execution_count": 6,
     "metadata": {},
     "output_type": "execute_result"
    }
   ],
   "source": [
    "# DEFINE ADDITIONAL DATA (TA, etc)\n",
    "import ta\n",
    "from torchtrade.feed.core import Stream, DataFeed, NameSpace\n",
    "\n",
    "bitstamp_btc = bitstamp_data.loc[:, bitstamp_data.columns.str.startswith(\"BTC\")].copy()\n",
    "\n",
    "ta.add_all_ta_features(\n",
    "    bitstamp_btc,\n",
    "    colprefix='BTC:',\n",
    "    **{k: \"BTC:\" + k for k in ['open', 'high', 'low', 'close', 'volume']}\n",
    ")\n",
    "\n",
    "with NameSpace(\"bitstamp\"):\n",
    "    bitstamp_steams = [\n",
    "        Stream.source(list(bitstamp_btc[c]), dtype=\"float\").rename(c) for c in bitstamp_btc.columns\n",
    "    ]\n",
    "    \n",
    "feed = DataFeed(bitstamp_steams)\n",
    "\n",
    "feed.next()"
   ],
   "metadata": {
    "collapsed": false,
    "ExecuteTime": {
     "end_time": "2024-12-07T01:14:53.924316Z",
     "start_time": "2024-12-07T01:14:46.324898Z"
    }
   },
   "id": "bcd9bbd5ae161feb",
   "execution_count": 6
  },
  {
   "cell_type": "code",
   "outputs": [],
   "source": [],
   "metadata": {
    "collapsed": false
   },
   "id": "d56cd56a5d96854c"
  }
 ],
 "metadata": {
  "kernelspec": {
   "display_name": "Python 3",
   "language": "python",
   "name": "python3"
  },
  "language_info": {
   "codemirror_mode": {
    "name": "ipython",
    "version": 2
   },
   "file_extension": ".py",
   "mimetype": "text/x-python",
   "name": "python",
   "nbconvert_exporter": "python",
   "pygments_lexer": "ipython2",
   "version": "2.7.6"
  }
 },
 "nbformat": 4,
 "nbformat_minor": 5
}
