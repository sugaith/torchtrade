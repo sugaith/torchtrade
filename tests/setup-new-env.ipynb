{
 "cells": [
  {
   "cell_type": "code",
   "execution_count": 3,
   "id": "initial_id",
   "metadata": {
    "collapsed": true,
    "ExecuteTime": {
     "end_time": "2024-12-05T22:17:32.202826Z",
     "start_time": "2024-12-05T22:17:30.011617Z"
    }
   },
   "outputs": [
    {
     "data": {
      "text/plain": "                 BTC:date    BTC:unix  BTC:open  BTC:high   BTC:low  \\\n0     2018-05-15 06:00:00  1526364000   8733.86   8796.68   8707.28   \n1     2018-05-15 07:00:00  1526367600   8740.99   8766.00   8721.11   \n2     2018-05-15 08:00:00  1526371200   8739.00   8750.27   8660.53   \n3     2018-05-15 09:00:00  1526374800   8728.49   8754.40   8701.35   \n4     2018-05-15 10:00:00  1526378400   8708.32   8865.00   8695.11   \n...                   ...         ...       ...       ...       ...   \n57494 2024-12-04 20:00:00  1733342400  97381.00  99250.00  97296.00   \n57495 2024-12-04 21:00:00  1733346000  99025.00  99165.00  97651.00   \n57496 2024-12-04 22:00:00  1733349600  97877.00  98742.00  97727.00   \n57497 2024-12-04 23:00:00  1733353200  98353.00  99163.00  98353.00   \n57498 2024-12-05 00:00:00  1733356800  98751.00  98817.00  98560.00   \n\n       BTC:close    BTC:volume  \n0        8740.99  5.599300e+02  \n1        8739.00  2.735800e+02  \n2        8728.49  9.177900e+02  \n3        8708.32  1.826200e+02  \n4        8795.90  1.260690e+03  \n...          ...           ...  \n57494   99023.00  8.397736e+07  \n57495   97877.00  4.844984e+07  \n57496   98351.00  3.571891e+07  \n57497   98773.00  1.555292e+07  \n57498   98584.00  7.093880e+06  \n\n[57499 rows x 7 columns]",
      "text/html": "<div>\n<style scoped>\n    .dataframe tbody tr th:only-of-type {\n        vertical-align: middle;\n    }\n\n    .dataframe tbody tr th {\n        vertical-align: top;\n    }\n\n    .dataframe thead th {\n        text-align: right;\n    }\n</style>\n<table border=\"1\" class=\"dataframe\">\n  <thead>\n    <tr style=\"text-align: right;\">\n      <th></th>\n      <th>BTC:date</th>\n      <th>BTC:unix</th>\n      <th>BTC:open</th>\n      <th>BTC:high</th>\n      <th>BTC:low</th>\n      <th>BTC:close</th>\n      <th>BTC:volume</th>\n    </tr>\n  </thead>\n  <tbody>\n    <tr>\n      <th>0</th>\n      <td>2018-05-15 06:00:00</td>\n      <td>1526364000</td>\n      <td>8733.86</td>\n      <td>8796.68</td>\n      <td>8707.28</td>\n      <td>8740.99</td>\n      <td>5.599300e+02</td>\n    </tr>\n    <tr>\n      <th>1</th>\n      <td>2018-05-15 07:00:00</td>\n      <td>1526367600</td>\n      <td>8740.99</td>\n      <td>8766.00</td>\n      <td>8721.11</td>\n      <td>8739.00</td>\n      <td>2.735800e+02</td>\n    </tr>\n    <tr>\n      <th>2</th>\n      <td>2018-05-15 08:00:00</td>\n      <td>1526371200</td>\n      <td>8739.00</td>\n      <td>8750.27</td>\n      <td>8660.53</td>\n      <td>8728.49</td>\n      <td>9.177900e+02</td>\n    </tr>\n    <tr>\n      <th>3</th>\n      <td>2018-05-15 09:00:00</td>\n      <td>1526374800</td>\n      <td>8728.49</td>\n      <td>8754.40</td>\n      <td>8701.35</td>\n      <td>8708.32</td>\n      <td>1.826200e+02</td>\n    </tr>\n    <tr>\n      <th>4</th>\n      <td>2018-05-15 10:00:00</td>\n      <td>1526378400</td>\n      <td>8708.32</td>\n      <td>8865.00</td>\n      <td>8695.11</td>\n      <td>8795.90</td>\n      <td>1.260690e+03</td>\n    </tr>\n    <tr>\n      <th>...</th>\n      <td>...</td>\n      <td>...</td>\n      <td>...</td>\n      <td>...</td>\n      <td>...</td>\n      <td>...</td>\n      <td>...</td>\n    </tr>\n    <tr>\n      <th>57494</th>\n      <td>2024-12-04 20:00:00</td>\n      <td>1733342400</td>\n      <td>97381.00</td>\n      <td>99250.00</td>\n      <td>97296.00</td>\n      <td>99023.00</td>\n      <td>8.397736e+07</td>\n    </tr>\n    <tr>\n      <th>57495</th>\n      <td>2024-12-04 21:00:00</td>\n      <td>1733346000</td>\n      <td>99025.00</td>\n      <td>99165.00</td>\n      <td>97651.00</td>\n      <td>97877.00</td>\n      <td>4.844984e+07</td>\n    </tr>\n    <tr>\n      <th>57496</th>\n      <td>2024-12-04 22:00:00</td>\n      <td>1733349600</td>\n      <td>97877.00</td>\n      <td>98742.00</td>\n      <td>97727.00</td>\n      <td>98351.00</td>\n      <td>3.571891e+07</td>\n    </tr>\n    <tr>\n      <th>57497</th>\n      <td>2024-12-04 23:00:00</td>\n      <td>1733353200</td>\n      <td>98353.00</td>\n      <td>99163.00</td>\n      <td>98353.00</td>\n      <td>98773.00</td>\n      <td>1.555292e+07</td>\n    </tr>\n    <tr>\n      <th>57498</th>\n      <td>2024-12-05 00:00:00</td>\n      <td>1733356800</td>\n      <td>98751.00</td>\n      <td>98817.00</td>\n      <td>98560.00</td>\n      <td>98584.00</td>\n      <td>7.093880e+06</td>\n    </tr>\n  </tbody>\n</table>\n<p>57499 rows × 7 columns</p>\n</div>"
     },
     "execution_count": 3,
     "metadata": {},
     "output_type": "execute_result"
    }
   ],
   "source": [
    "# FETCH HISTORICAL DATA\n",
    "\n",
    "from torchtrade.data.cdd import CryptoDataDownload\n",
    "import pandas as pd\n",
    "\n",
    "cdd = CryptoDataDownload()\n",
    "\n",
    "bitstamp_data = pd.concat([\n",
    "    cdd.fetch(\"Bitstamp\", \"USD\", \"BTC\", \"1h\").add_prefix(\"BTC:\"),\n",
    "], axis=1)\n",
    "\n",
    "bitstamp_data"
   ]
  },
  {
   "cell_type": "code",
   "outputs": [],
   "source": [
    "# DEFINE EXCHANGES\n",
    "\n",
    "from torchtrade.oms.exchanges import Exchange\n",
    "from torchtrade.oms.services.execution.simulated import execute_order\n",
    "from torchtrade.feed.core.base import Stream\n",
    "\n",
    "\n",
    "bitstamp = Exchange(\"bitstamp\", service=execute_order)(\n",
    "    Stream.source(list(bitstamp_data['BTC:close']), dtype=\"float\").rename(\"USD-BTC\")\n",
    ")"
   ],
   "metadata": {
    "collapsed": false,
    "ExecuteTime": {
     "end_time": "2024-12-05T23:55:27.885665Z",
     "start_time": "2024-12-05T23:55:27.834972Z"
    }
   },
   "id": "531b4abf5c60daef",
   "execution_count": 4
  },
  {
   "cell_type": "code",
   "outputs": [],
   "source": [],
   "metadata": {
    "collapsed": false
   },
   "id": "bcd9bbd5ae161feb"
  }
 ],
 "metadata": {
  "kernelspec": {
   "display_name": "Python 3",
   "language": "python",
   "name": "python3"
  },
  "language_info": {
   "codemirror_mode": {
    "name": "ipython",
    "version": 2
   },
   "file_extension": ".py",
   "mimetype": "text/x-python",
   "name": "python",
   "nbconvert_exporter": "python",
   "pygments_lexer": "ipython2",
   "version": "2.7.6"
  }
 },
 "nbformat": 4,
 "nbformat_minor": 5
}
